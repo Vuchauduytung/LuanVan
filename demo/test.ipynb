{
 "cells": [
  {
   "cell_type": "code",
   "execution_count": 1,
   "source": [
    "from PIL import Image\r\n",
    "  \r\n",
    "img = Image.open('tank2.png')\r\n",
    "rgba = img.convert(\"RGBA\")\r\n",
    "datas = rgba.getdata()\r\n",
    "  \r\n",
    "newData = []\r\n",
    "for item in datas:\r\n",
    "    if item[0] == 0 and item[1] == 0 and item[2] == 0:  # finding black colour by its RGB value\r\n",
    "        # storing a transparent value when we find a black colour\r\n",
    "        newData.append((255, 255, 255, 0))\r\n",
    "    else:\r\n",
    "        newData.append(item)  # other colours remain unchanged\r\n",
    "  \r\n",
    "rgba.putdata(newData)\r\n",
    "rgba.save(\"tank2.png\", \"PNG\")"
   ],
   "outputs": [],
   "metadata": {}
  }
 ],
 "metadata": {
  "orig_nbformat": 4,
  "language_info": {
   "name": "python",
   "version": "3.9.2",
   "mimetype": "text/x-python",
   "codemirror_mode": {
    "name": "ipython",
    "version": 3
   },
   "pygments_lexer": "ipython3",
   "nbconvert_exporter": "python",
   "file_extension": ".py"
  },
  "kernelspec": {
   "name": "python3",
   "display_name": "Python 3.9.2 64-bit"
  },
  "interpreter": {
   "hash": "ac59ebe37160ed0dfa835113d9b8498d9f09ceb179beaac4002f036b9467c963"
  }
 },
 "nbformat": 4,
 "nbformat_minor": 2
}