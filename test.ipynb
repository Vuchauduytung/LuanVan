{
 "cells": [
  {
   "cell_type": "code",
   "execution_count": 1,
   "metadata": {},
   "outputs": [],
   "source": [
    "import cv2"
   ]
  },
  {
   "cell_type": "code",
   "execution_count": 4,
   "metadata": {},
   "outputs": [
    {
     "data": {
      "text/plain": [
       "True"
      ]
     },
     "execution_count": 4,
     "metadata": {},
     "output_type": "execute_result"
    }
   ],
   "source": [
    "img = cv2.imread('E:\\AutoProject\\source\\icon\\exclamation-point-icons.png')\n",
    "dim = (15,15)\n",
    "new_img = cv2.resize(img, dim, interpolation = cv2.INTER_AREA)\n",
    "cv2.imwrite('E:\\AutoProject\\source\\icon\\exclamation-point-icons_resized.png', new_img)"
   ]
  },
  {
   "cell_type": "code",
   "execution_count": 36,
   "metadata": {},
   "outputs": [
    {
     "data": {
      "text/plain": [
       "'Bob'"
      ]
     },
     "execution_count": 36,
     "metadata": {},
     "output_type": "execute_result"
    }
   ],
   "source": [
    "class Person(object):\n",
    "    \n",
    "    def __init__(self, name, occupation):\n",
    "        self.name = name\n",
    "        self.occupation = occupation\n",
    "\n",
    "Person.nametag = property(lambda self: nametag(self))\n",
    "\n",
    "def nametag(self):\n",
    "    return self.name\n",
    "\n",
    "class Teacher(Person):\n",
    "\n",
    "    def __init__(self, name, occupation, subject):\n",
    "        super().__init__(name, occupation)\n",
    "        self.subject = subject\n",
    "\n",
    "    @property\n",
    "    def nametag(self):\n",
    "        tag = super().nametag\n",
    "        # tag[\"subject\"] = self.subject\n",
    "        return tag\n",
    "\n",
    "bob = Teacher(\"Bob\", \"Professor\", \"Python\")\n",
    "bob.nametag"
   ]
  },
  {
   "cell_type": "code",
   "execution_count": 32,
   "metadata": {},
   "outputs": [
    {
     "name": "stdout",
     "output_type": "stream",
     "text": [
      "Foo 42 parrot\n",
      "Bar 42 parrot\n"
     ]
    }
   ],
   "source": [
    "class Parent(object):\n",
    "    def __init__(self, name, number):\n",
    "        self.name = name\n",
    "        self.number = number\n",
    "\n",
    "\n",
    "class Child(object):\n",
    "    def __init__(self, parent, other):\n",
    "        self.parent = parent\n",
    "        self.other = other\n",
    "\n",
    "    def __getattr__(self, name):\n",
    "        try:\n",
    "            return getattr(self.parent, name)\n",
    "        except AttributeError as e:\n",
    "            raise AttributeError(\"Child' object has no attribute '%s'\" % name)\n",
    "\n",
    "p = Parent(\"Foo\", 42)\n",
    "c = Child(p, \"parrot\")\n",
    "print(c.name, c.number, c.other)\n",
    "p.name = \"Bar\"\n",
    "print(c.name, c.number, c.other) "
   ]
  },
  {
   "cell_type": "code",
   "execution_count": 2,
   "metadata": {},
   "outputs": [
    {
     "name": "stdout",
     "output_type": "stream",
     "text": [
      "Hello\n"
     ]
    }
   ],
   "source": [
    "class A:\n",
    "    def __init__(self):\n",
    "        self.a = 5\n",
    "\n",
    "cls1 = A()\n",
    "cls1.b = 7\n",
    "\n",
    "class B(A):\n",
    "    @classmethod\n",
    "    def cast(cls, some_a: A):\n",
    "        \"\"\"Cast an A into a MyA.\"\"\"\n",
    "        assert isinstance(some_a, A)\n",
    "        some_a.__class__ = cls  # now mymethod() is available\n",
    "        assert isinstance(some_a, B)\n",
    "        return some_a\n",
    "    \n",
    "    def print_(self):\n",
    "        print(\"Hello\")\n",
    "\n",
    "cls2 = B.cast(some_a=cls1)\n",
    "cls2.print_()"
   ]
  },
  {
   "cell_type": "code",
   "execution_count": 19,
   "metadata": {},
   "outputs": [
    {
     "data": {
      "text/plain": [
       "__main__.A"
      ]
     },
     "execution_count": 19,
     "metadata": {},
     "output_type": "execute_result"
    }
   ],
   "source": [
    "B.__bases__[0]\n",
    "# A"
   ]
  },
  {
   "cell_type": "code",
   "execution_count": 1,
   "metadata": {},
   "outputs": [
    {
     "data": {
      "text/plain": [
       "[<__main__.C at 0x20ee9bb6760>,\n",
       " <__main__.C at 0x20ee9bb6ac0>,\n",
       " <__main__.C at 0x20ee9bb6040>]"
      ]
     },
     "execution_count": 1,
     "metadata": {},
     "output_type": "execute_result"
    }
   ],
   "source": [
    "class C:\n",
    "    a = []\n",
    "    def __init__(self):\n",
    "        C.a += [self]\n",
    "        \n",
    "c1 = C()\n",
    "c2 = C()\n",
    "c3 = C()\n",
    "C.a"
   ]
  },
  {
   "cell_type": "code",
   "execution_count": 3,
   "metadata": {},
   "outputs": [],
   "source": [
    "c1.txt = \"Hello\""
   ]
  },
  {
   "cell_type": "code",
   "execution_count": 6,
   "metadata": {},
   "outputs": [
    {
     "ename": "AttributeError",
     "evalue": "'C' object has no attribute 'txt'",
     "output_type": "error",
     "traceback": [
      "\u001b[1;31m---------------------------------------------------------------------------\u001b[0m",
      "\u001b[1;31mAttributeError\u001b[0m                            Traceback (most recent call last)",
      "\u001b[1;32m<ipython-input-6-50befc57ae9c>\u001b[0m in \u001b[0;36m<module>\u001b[1;34m\u001b[0m\n\u001b[1;32m----> 1\u001b[1;33m \u001b[0mC\u001b[0m\u001b[1;33m.\u001b[0m\u001b[0ma\u001b[0m\u001b[1;33m[\u001b[0m\u001b[1;36m2\u001b[0m\u001b[1;33m]\u001b[0m\u001b[1;33m.\u001b[0m\u001b[0mtxt\u001b[0m\u001b[1;33m\u001b[0m\u001b[1;33m\u001b[0m\u001b[0m\n\u001b[0m",
      "\u001b[1;31mAttributeError\u001b[0m: 'C' object has no attribute 'txt'"
     ]
    }
   ],
   "source": [
    "C.a[2].txt"
   ]
  },
  {
   "cell_type": "code",
   "execution_count": 11,
   "metadata": {},
   "outputs": [],
   "source": [
    "a = (1,2,3)\n"
   ]
  },
  {
   "cell_type": "code",
   "execution_count": 1,
   "metadata": {},
   "outputs": [
    {
     "name": "stdout",
     "output_type": "stream",
     "text": [
      "a\n",
      "b\n",
      "c\n",
      "6\n"
     ]
    }
   ],
   "source": [
    "def sum(start: int, **numbers):\n",
    "    for key, value in numbers.items():\n",
    "        start += value\n",
    "        print(key)\n",
    "    return start\n",
    "\n",
    "print(sum(start = 0, a = 1, b = 2, c = 3))"
   ]
  },
  {
   "cell_type": "code",
   "execution_count": 1,
   "metadata": {},
   "outputs": [
    {
     "ename": "SystemExit",
     "evalue": "0",
     "output_type": "error",
     "traceback": [
      "An exception has occurred, use %tb to see the full traceback.\n",
      "\u001b[1;31mSystemExit\u001b[0m\u001b[1;31m:\u001b[0m 0\n"
     ]
    },
    {
     "name": "stderr",
     "output_type": "stream",
     "text": [
      "C:\\Users\\Lenovo\\AppData\\Roaming\\Python\\Python39\\site-packages\\IPython\\core\\interactiveshell.py:3449: UserWarning: To exit: use 'exit', 'quit', or Ctrl-D.\n",
      "  warn(\"To exit: use 'exit', 'quit', or Ctrl-D.\", stacklevel=1)\n"
     ]
    }
   ],
   "source": [
    "import sys\n",
    "from PyQt5.QtWidgets import *\n",
    "\n",
    "class basicWindow(QWidget):\n",
    "    def __init__(self):\n",
    "        super().__init__()\n",
    "        grid_layout = QGridLayout()\n",
    "        \n",
    "        # self.setLayout(grid_layout)\n",
    "        \n",
    "        groupBox = QGroupBox(self)\n",
    "        groupBox.setGeometry(50, 50, 200, 200)\n",
    "        groupBox.setLayout(grid_layout)\n",
    "        \n",
    "        button = QPushButton(\"hello\", self)\n",
    "        button.setGeometry(60, 60, 20, 20)\n",
    "\n",
    "        label = QLabel('Name:')\n",
    "        grid_layout.addWidget(label, 0, 0, 1, 1)\n",
    "        \n",
    "        line = QLineEdit()\n",
    "        # line.setGeometry(0, 0, 100, 100)\n",
    "        grid_layout.addWidget(line, 0, 1, 1, 1)\n",
    "        \n",
    "        label = QLabel('Customer address:')\n",
    "        grid_layout.addWidget(label, 1, 0, 1, 1)\n",
    "        \n",
    "        line = QLineEdit()\n",
    "        grid_layout.addWidget(line, 1, 1, 1, 1)\n",
    "        \n",
    "        rec = QGraphicsRectItem(0, 0, 100, 100)\n",
    "        # grid_layout.addWidget(rec, 2, 0, 1, 3)\n",
    "        \n",
    "        # for x in range(1, 3):\n",
    "        #     for y in range(1, 3):\n",
    "        #         button = QPushButton(str(str(3*x+y)))\n",
    "        #         grid_layout.addWidget(button, x, y)\n",
    "        \n",
    "        self.setWindowTitle('Basic Grid Layout')\n",
    "\n",
    "if __name__ == '__main__':\n",
    "    app = QApplication(sys.argv)\n",
    "    windowExample = basicWindow()\n",
    "    windowExample.show()\n",
    "    sys.exit(app.exec_())"
   ]
  }
 ],
 "metadata": {
  "interpreter": {
   "hash": "ac59ebe37160ed0dfa835113d9b8498d9f09ceb179beaac4002f036b9467c963"
  },
  "kernelspec": {
   "display_name": "Python 3.9.2 64-bit",
   "name": "python3"
  },
  "language_info": {
   "codemirror_mode": {
    "name": "ipython",
    "version": 3
   },
   "file_extension": ".py",
   "mimetype": "text/x-python",
   "name": "python",
   "nbconvert_exporter": "python",
   "pygments_lexer": "ipython3",
   "version": "3.9.2"
  },
  "orig_nbformat": 4
 },
 "nbformat": 4,
 "nbformat_minor": 2
}
